{
  "cells": [
    {
      "cell_type": "markdown",
      "source": [],
      "metadata": {
        "id": "OSyH8Ihe_-L-"
      }
    },
    {
      "cell_type": "markdown",
      "metadata": {
        "id": "AVKcwcHHcm6i"
      },
      "source": [
        "# Import the required modules."
      ]
    },
    {
      "cell_type": "code",
      "source": [
        "from google.colab import drive\n",
        "drive.mount('/content/drive')"
      ],
      "metadata": {
        "id": "VOb8FoOUdgJv",
        "colab": {
          "base_uri": "https://localhost:8080/"
        },
        "outputId": "a0635ea0-f563-42a3-a30f-fd78b8012db6"
      },
      "execution_count": null,
      "outputs": [
        {
          "output_type": "stream",
          "name": "stdout",
          "text": [
            "Drive already mounted at /content/drive; to attempt to forcibly remount, call drive.mount(\"/content/drive\", force_remount=True).\n"
          ]
        }
      ]
    },
    {
      "cell_type": "code",
      "source": [
        "!rm -rf /content/dataset && mkdir -p /content/dataset && cp -R /content/drive/Shareddrives/Datasci/ids_iscx_2012_dataset/* /content/dataset"
      ],
      "metadata": {
        "id": "IoccthAX8JI6"
      },
      "execution_count": null,
      "outputs": []
    },
    {
      "cell_type": "code",
      "execution_count": null,
      "metadata": {
        "id": "1fJk7zmMjcFm"
      },
      "outputs": [],
      "source": [
        "import numpy as np\n",
        "import pandas as pd\n",
        "import matplotlib.pyplot as plt\n",
        "\n",
        "import seaborn as sns; sns.set()"
      ]
    },
    {
      "cell_type": "code",
      "execution_count": null,
      "metadata": {
        "id": "MOKVbdzBjlmP"
      },
      "outputs": [],
      "source": [
        "from keras.models import Sequential, load_model\n",
        "from keras.layers import Dense, LSTM, Bidirectional, GRU, CuDNNLSTM\n",
        "from keras.utils.vis_utils import plot_model\n",
        "from keras.utils.np_utils import to_categorical\n",
        "from keras.utils import np_utils\n",
        "\n",
        "from sklearn.model_selection import train_test_split\n",
        "from sklearn.preprocessing import LabelEncoder, StandardScaler\n",
        "from sklearn.metrics import confusion_matrix"
      ]
    },
    {
      "cell_type": "markdown",
      "metadata": {
        "id": "lTl8xezUcm6o"
      },
      "source": [
        "# number_of_samples determine how many samples from the attack and normal dataset should be read and used."
      ]
    },
    {
      "cell_type": "code",
      "execution_count": null,
      "metadata": {
        "id": "u7H2jNs1csN2"
      },
      "outputs": [],
      "source": [
        "number_of_samples = 200000"
      ]
    },
    {
      "cell_type": "markdown",
      "metadata": {
        "id": "nQmb506ycm6p"
      },
      "source": [
        "# Read data from attack and normal datasets."
      ]
    },
    {
      "cell_type": "code",
      "execution_count": null,
      "metadata": {
        "id": "MlnVmtsDj0Af"
      },
      "outputs": [],
      "source": [
        "data_normal = pd.read_csv('/content/dataset/dataset_normal.csv', nrows = number_of_samples)\n",
        "data_attack = pd.read_csv('/content/dataset/dataset_attack.csv', nrows = number_of_samples)"
      ]
    },
    {
      "cell_type": "markdown",
      "source": [],
      "metadata": {
        "id": "Rq_3WPpFe1ml"
      }
    },
    {
      "cell_type": "code",
      "execution_count": null,
      "metadata": {
        "id": "kMoOG1gDj1eJ"
      },
      "outputs": [],
      "source": [
        "\n",
        "\n",
        "data_normal.columns=[ 'frame.len', 'frame.protocols', 'ip.hdr_len',\n",
        "       'ip.len', 'ip.flags.rb', 'ip.flags.df', 'p.flags.mf', 'ip.frag_offset',\n",
        "       'ip.ttl', 'ip.proto', 'ip.src', 'ip.dst', 'tcp.srcport', 'tcp.dstport',\n",
        "       'tcp.len', 'tcp.ack', 'tcp.flags.res', 'tcp.flags.ns', 'tcp.flags.cwr',\n",
        "       'tcp.flags.ecn', 'tcp.flags.urg', 'tcp.flags.ack', 'tcp.flags.push',\n",
        "       'tcp.flags.reset', 'tcp.flags.syn', 'tcp.flags.fin', 'tcp.window_size',\n",
        "       'tcp.time_delta','class']\n",
        "data_attack.columns=[ 'frame.len', 'frame.protocols', 'ip.hdr_len',\n",
        "       'ip.len', 'ip.flags.rb', 'ip.flags.df', 'p.flags.mf', 'ip.frag_offset',\n",
        "       'ip.ttl', 'ip.proto', 'ip.src', 'ip.dst', 'tcp.srcport', 'tcp.dstport',\n",
        "       'tcp.len', 'tcp.ack', 'tcp.flags.res', 'tcp.flags.ns', 'tcp.flags.cwr',\n",
        "       'tcp.flags.ecn', 'tcp.flags.urg', 'tcp.flags.ack', 'tcp.flags.push',\n",
        "       'tcp.flags.reset', 'tcp.flags.syn', 'tcp.flags.fin', 'tcp.window_size',\n",
        "       'tcp.time_delta','class']\n"
      ]
    },
    {
      "cell_type": "markdown",
      "metadata": {
        "id": "0M8Oc5QWcm6s"
      },
      "source": [
        "# Drop unwanted columns"
      ]
    },
    {
      "cell_type": "code",
      "execution_count": null,
      "metadata": {
        "id": "13n5FKSJj4Fn"
      },
      "outputs": [],
      "source": [
        "data_normal=data_normal.drop(['ip.src', 'ip.dst','frame.protocols'],axis=1)\n",
        "data_attack=data_attack.drop(['ip.src', 'ip.dst','frame.protocols'],axis=1)"
      ]
    },
    {
      "cell_type": "code",
      "execution_count": null,
      "metadata": {
        "id": "EdgboyqDj-AJ"
      },
      "outputs": [],
      "source": [
        "features=[ 'frame.len', 'ip.hdr_len',\n",
        "       'ip.len', 'ip.flags.rb', 'ip.flags.df', 'p.flags.mf', 'ip.frag_offset',\n",
        "       'ip.ttl', 'ip.proto', 'tcp.srcport', 'tcp.dstport',\n",
        "       'tcp.len', 'tcp.ack', 'tcp.flags.res', 'tcp.flags.ns', 'tcp.flags.cwr',\n",
        "       'tcp.flags.ecn', 'tcp.flags.urg', 'tcp.flags.ack', 'tcp.flags.push',\n",
        "       'tcp.flags.reset', 'tcp.flags.syn', 'tcp.flags.fin', 'tcp.window_size',\n",
        "       'tcp.time_delta']"
      ]
    },
    {
      "cell_type": "code",
      "execution_count": null,
      "metadata": {
        "id": "7IxNpgX5kAMg"
      },
      "outputs": [],
      "source": [
        "X_normal= data_normal[features].values\n",
        "X_attack= data_attack[features].values\n",
        "Y_normal= data_normal['class']\n",
        "Y_attack= data_attack['class']\n",
        "X=np.concatenate((X_normal,X_attack))\n",
        "Y=np.concatenate((Y_normal,Y_attack))"
      ]
    },
    {
      "cell_type": "markdown",
      "metadata": {
        "id": "Cbhjd7rVcm6u"
      },
      "source": [
        "# Standardise the data"
      ]
    },
    {
      "cell_type": "code",
      "execution_count": null,
      "metadata": {
        "id": "b3xIr2rRkWMX"
      },
      "outputs": [],
      "source": [
        "scalar = StandardScaler(copy=True, with_mean=True, with_std=True)\n",
        "scalar.fit(X)\n",
        "X = scalar.transform(X)"
      ]
    },
    {
      "cell_type": "markdown",
      "metadata": {
        "id": "cq5Z-M36cm6v"
      },
      "source": [
        "# the class field, replace value 'attack' with 0 and 'normal' with 1"
      ]
    },
    {
      "cell_type": "code",
      "execution_count": null,
      "metadata": {
        "id": "0U1VeOtEkYBX"
      },
      "outputs": [],
      "source": [
        "for i in range(0,len(Y)):\n",
        "  if Y[i] ==\"attack\":\n",
        "    Y[i]=0\n",
        "  else:\n",
        "    Y[i]=1\n",
        "    "
      ]
    },
    {
      "cell_type": "markdown",
      "metadata": {
        "id": "txmRZLR_cm6v"
      },
      "source": [
        "After feature transformation, we get a 𝑚×𝑛' matrix, where 𝑚 indicates the number of packets and 𝑛' indicates the number of new features after transformation. In order to learn patterns in both long and short term, we use a sliding window to separate continuous packets and reshape the data into a series of time windows with window size 𝑇. The label 𝑦 in each window illustrates the last packet. After reshaping, we have a three-dimensional matrix with shape (𝑚−𝑇 )×𝑇 ×𝑛'. Figure illustrates the workflow of feature extraction, transformation, and reshaping.\n",
        "![dataset transformation](feature_extraction.png)\n",
        "In this way, we change the features from conventional packet-based to window-based, by which we can learn network patterns from both previous (𝑇 −1) packets and current packet."
      ]
    },
    {
      "cell_type": "code",
      "execution_count": null,
      "metadata": {
        "id": "PEK_22RTkrvH"
      },
      "outputs": [],
      "source": [
        "features = len(X[0])\n",
        "samples = X.shape[0]\n",
        "train_len = 25\n",
        "input_len = samples - train_len\n",
        "I = np.zeros((samples - train_len, train_len, features))\n",
        "\n",
        "for i in range(input_len):\n",
        "    temp = np.zeros((train_len, features))\n",
        "    for j in range(i, i + train_len - 1):\n",
        "        temp[j-i] = X[j]\n",
        "    I[i] = temp"
      ]
    },
    {
      "cell_type": "code",
      "execution_count": null,
      "metadata": {
        "id": "3JteaRBwcm6w",
        "outputId": "34b22960-35c1-468e-c0b9-bd40aee907e7",
        "colab": {
          "base_uri": "https://localhost:8080/"
        }
      },
      "outputs": [
        {
          "output_type": "execute_result",
          "data": {
            "text/plain": [
              "(400000, 25)"
            ]
          },
          "metadata": {},
          "execution_count": 47
        }
      ],
      "source": [
        "X.shape"
      ]
    },
    {
      "cell_type": "code",
      "execution_count": null,
      "metadata": {
        "id": "1l5ft9AblBln"
      },
      "outputs": [],
      "source": [
        "X_train, X_test, Y_train, Y_test = train_test_split(I, Y[25:2*number_of_samples], test_size = 0.2)"
      ]
    },
    {
      "cell_type": "markdown",
      "metadata": {
        "id": "6r6S7uEAcm6x"
      },
      "source": [
        "The architecture used is \n",
        "![Model](model_brnn.png)"
      ]
    },
    {
      "cell_type": "code",
      "execution_count": null,
      "metadata": {
        "id": "SzHoR1ewdODm"
      },
      "outputs": [],
      "source": [
        "def create_baseline():\n",
        "    model = Sequential()\n",
        "    \n",
        "    model.add(Bidirectional(LSTM(64, activation='tanh', kernel_regularizer='l2')))\n",
        "    model.add(Dense(128, activation = 'relu', kernel_regularizer='l2'))\n",
        "    model.add(Dense(1, activation = 'sigmoid', kernel_regularizer='l2'))\n",
        "    \n",
        "    model.compile(loss = 'binary_crossentropy', optimizer = 'adam', metrics = ['accuracy'])\n",
        "    \n",
        "    return model"
      ]
    },
    {
      "cell_type": "code",
      "execution_count": null,
      "metadata": {
        "id": "fW-zMrYFdVP9"
      },
      "outputs": [],
      "source": [
        "model = create_baseline()"
      ]
    },
    {
      "cell_type": "code",
      "execution_count": null,
      "metadata": {
        "id": "d6nUrwGNdYUP",
        "outputId": "dda7592f-05b7-4e66-dcf8-b276c7245979",
        "colab": {
          "base_uri": "https://localhost:8080/"
        }
      },
      "outputs": [
        {
          "output_type": "stream",
          "name": "stdout",
          "text": [
            "Epoch 1/40\n",
            "8000/8000 [==============================] - 194s 24ms/step - loss: 0.2283 - accuracy: 0.9379 - val_loss: 0.1801 - val_accuracy: 0.9485\n",
            "Epoch 2/40\n",
            "8000/8000 [==============================] - 192s 24ms/step - loss: 0.1688 - accuracy: 0.9511 - val_loss: 0.1651 - val_accuracy: 0.9528\n",
            "Epoch 3/40\n",
            "8000/8000 [==============================] - 188s 24ms/step - loss: 0.1605 - accuracy: 0.9539 - val_loss: 0.1477 - val_accuracy: 0.9581\n",
            "Epoch 4/40\n",
            "8000/8000 [==============================] - 188s 24ms/step - loss: 0.1488 - accuracy: 0.9582 - val_loss: 0.1388 - val_accuracy: 0.9618\n",
            "Epoch 5/40\n",
            "8000/8000 [==============================] - 197s 25ms/step - loss: 0.1435 - accuracy: 0.9599 - val_loss: 0.1439 - val_accuracy: 0.9568\n",
            "Epoch 6/40\n",
            "8000/8000 [==============================] - 192s 24ms/step - loss: 0.1381 - accuracy: 0.9617 - val_loss: 0.1378 - val_accuracy: 0.9610\n",
            "Epoch 7/40\n",
            "8000/8000 [==============================] - 188s 24ms/step - loss: 0.1339 - accuracy: 0.9632 - val_loss: 0.1275 - val_accuracy: 0.9653\n",
            "Epoch 8/40\n",
            "8000/8000 [==============================] - 184s 23ms/step - loss: 0.1313 - accuracy: 0.9643 - val_loss: 0.1270 - val_accuracy: 0.9660\n",
            "Epoch 9/40\n",
            "8000/8000 [==============================] - 187s 23ms/step - loss: 0.1273 - accuracy: 0.9656 - val_loss: 0.1290 - val_accuracy: 0.9646\n",
            "Epoch 10/40\n",
            "8000/8000 [==============================] - 188s 23ms/step - loss: 0.1238 - accuracy: 0.9670 - val_loss: 0.1176 - val_accuracy: 0.9674\n",
            "Epoch 11/40\n",
            "8000/8000 [==============================] - 193s 24ms/step - loss: 0.1232 - accuracy: 0.9675 - val_loss: 0.1176 - val_accuracy: 0.9682\n",
            "Epoch 12/40\n",
            "8000/8000 [==============================] - 189s 24ms/step - loss: 0.1217 - accuracy: 0.9683 - val_loss: 0.1174 - val_accuracy: 0.9697\n",
            "Epoch 13/40\n",
            "8000/8000 [==============================] - 192s 24ms/step - loss: 0.1184 - accuracy: 0.9692 - val_loss: 0.1214 - val_accuracy: 0.9695\n",
            "Epoch 14/40\n",
            "8000/8000 [==============================] - 187s 23ms/step - loss: 0.1169 - accuracy: 0.9697 - val_loss: 0.1140 - val_accuracy: 0.9704\n",
            "Epoch 15/40\n",
            "8000/8000 [==============================] - 189s 24ms/step - loss: 0.1156 - accuracy: 0.9704 - val_loss: 0.1118 - val_accuracy: 0.9699\n",
            "Epoch 16/40\n",
            "8000/8000 [==============================] - 196s 25ms/step - loss: 0.1128 - accuracy: 0.9718 - val_loss: 0.1196 - val_accuracy: 0.9695\n",
            "Epoch 17/40\n",
            "8000/8000 [==============================] - 189s 24ms/step - loss: 0.1115 - accuracy: 0.9721 - val_loss: 0.1112 - val_accuracy: 0.9719\n",
            "Epoch 18/40\n",
            "8000/8000 [==============================] - 192s 24ms/step - loss: 0.1109 - accuracy: 0.9722 - val_loss: 0.1108 - val_accuracy: 0.9729\n",
            "Epoch 19/40\n",
            "8000/8000 [==============================] - 192s 24ms/step - loss: 0.1091 - accuracy: 0.9729 - val_loss: 0.1226 - val_accuracy: 0.9663\n",
            "Epoch 20/40\n",
            "8000/8000 [==============================] - 193s 24ms/step - loss: 0.1070 - accuracy: 0.9734 - val_loss: 0.1061 - val_accuracy: 0.9750\n",
            "Epoch 21/40\n",
            "8000/8000 [==============================] - 191s 24ms/step - loss: 0.1066 - accuracy: 0.9740 - val_loss: 0.1272 - val_accuracy: 0.9676\n",
            "Epoch 22/40\n",
            "8000/8000 [==============================] - 189s 24ms/step - loss: 0.1058 - accuracy: 0.9741 - val_loss: 0.1135 - val_accuracy: 0.9723\n",
            "Epoch 23/40\n",
            "8000/8000 [==============================] - 191s 24ms/step - loss: 0.1062 - accuracy: 0.9741 - val_loss: 0.1068 - val_accuracy: 0.9726\n",
            "Epoch 24/40\n",
            "8000/8000 [==============================] - 191s 24ms/step - loss: 0.1035 - accuracy: 0.9747 - val_loss: 0.1102 - val_accuracy: 0.9728\n",
            "Epoch 25/40\n",
            "8000/8000 [==============================] - 192s 24ms/step - loss: 0.1040 - accuracy: 0.9744 - val_loss: 0.0990 - val_accuracy: 0.9747\n",
            "Epoch 26/40\n",
            "8000/8000 [==============================] - 186s 23ms/step - loss: 0.1009 - accuracy: 0.9756 - val_loss: 0.1097 - val_accuracy: 0.9709\n",
            "Epoch 27/40\n",
            "8000/8000 [==============================] - 196s 24ms/step - loss: 0.1023 - accuracy: 0.9752 - val_loss: 0.0989 - val_accuracy: 0.9761\n",
            "Epoch 28/40\n",
            "8000/8000 [==============================] - 190s 24ms/step - loss: 0.1045 - accuracy: 0.9746 - val_loss: 0.1003 - val_accuracy: 0.9746\n",
            "Epoch 29/40\n",
            "8000/8000 [==============================] - 184s 23ms/step - loss: 0.1011 - accuracy: 0.9758 - val_loss: 0.1149 - val_accuracy: 0.9698\n",
            "Epoch 30/40\n",
            "8000/8000 [==============================] - 192s 24ms/step - loss: 0.1017 - accuracy: 0.9756 - val_loss: 0.0970 - val_accuracy: 0.9779\n",
            "Epoch 31/40\n",
            "8000/8000 [==============================] - 193s 24ms/step - loss: 0.0997 - accuracy: 0.9761 - val_loss: 0.0967 - val_accuracy: 0.9769\n",
            "Epoch 32/40\n",
            "8000/8000 [==============================] - 191s 24ms/step - loss: 0.0991 - accuracy: 0.9762 - val_loss: 0.0963 - val_accuracy: 0.9768\n",
            "Epoch 33/40\n",
            "8000/8000 [==============================] - 193s 24ms/step - loss: 0.1032 - accuracy: 0.9752 - val_loss: 0.1027 - val_accuracy: 0.9757\n",
            "Epoch 34/40\n",
            "8000/8000 [==============================] - 193s 24ms/step - loss: 0.0987 - accuracy: 0.9765 - val_loss: 0.1122 - val_accuracy: 0.9750\n",
            "Epoch 35/40\n",
            "8000/8000 [==============================] - 196s 24ms/step - loss: 0.1028 - accuracy: 0.9756 - val_loss: 0.1073 - val_accuracy: 0.9730\n",
            "Epoch 36/40\n",
            "8000/8000 [==============================] - 189s 24ms/step - loss: 0.1012 - accuracy: 0.9754 - val_loss: 0.1098 - val_accuracy: 0.9718\n",
            "Epoch 37/40\n",
            "8000/8000 [==============================] - 189s 24ms/step - loss: 0.0998 - accuracy: 0.9765 - val_loss: 0.1080 - val_accuracy: 0.9735\n",
            "Epoch 38/40\n",
            "8000/8000 [==============================] - 188s 23ms/step - loss: 0.0972 - accuracy: 0.9775 - val_loss: 0.0978 - val_accuracy: 0.9763\n",
            "Epoch 39/40\n",
            "8000/8000 [==============================] - 186s 23ms/step - loss: 0.0979 - accuracy: 0.9773 - val_loss: 0.1017 - val_accuracy: 0.9755\n",
            "Epoch 40/40\n",
            "8000/8000 [==============================] - 194s 24ms/step - loss: 0.0982 - accuracy: 0.9770 - val_loss: 0.0985 - val_accuracy: 0.9773\n"
          ]
        }
      ],
      "source": [
        "import numpy as np\n",
        "\n",
        "X_train = np.asarray(X_train).astype(np.float32)\n",
        "Y_train = np.asarray(Y_train).astype(np.float32)\n",
        "history = model.fit(X_train, Y_train, epochs = 40,validation_split=0.2, verbose = 1)"
      ]
    },
    {
      "cell_type": "markdown",
      "metadata": {
        "id": "Ytvl1dgPcm6x"
      },
      "source": [
        "Obtained plot of accuracy\n",
        "\n",
        "![plot of accuracy](BRNN_Model_Accuracy.png)"
      ]
    },
    {
      "cell_type": "code",
      "execution_count": null,
      "metadata": {
        "id": "7dR8MHphk68X",
        "colab": {
          "base_uri": "https://localhost:8080/",
          "height": 318
        },
        "outputId": "be8c6047-811d-4205-cbb1-f2188f39526e"
      },
      "outputs": [
        {
          "output_type": "stream",
          "name": "stdout",
          "text": [
            "dict_keys(['loss', 'accuracy', 'val_loss', 'val_accuracy'])\n"
          ]
        },
        {
          "output_type": "display_data",
          "data": {
            "text/plain": [
              "<Figure size 432x288 with 1 Axes>"
            ],
            "image/png": "[encoded data removed]"
          },
          "metadata": {}
        }
      ],
      "source": [
        "# Plot training & validation accuracy values\n",
        "print(history.history.keys())\n",
        "plt.plot(history.history['accuracy'])\n",
        "plt.plot(history.history['val_accuracy'])\n",
        "plt.title('BRNN Model Accuracy')\n",
        "plt.ylabel('Accuracy')\n",
        "plt.xlabel('Epoch')\n",
        "plt.legend(['Train', 'Test'], loc='lower right')\n",
        "plt.savefig('BRNN Model Accuracy.png')\n",
        "plt.show()"
      ]
    },
    {
      "cell_type": "markdown",
      "metadata": {
        "id": "5ZM3BsDwcm6y"
      },
      "source": [
        "Plot of loss\n",
        "![plot of loss](BRNN_Model_Loss.png)"
      ]
    },
    {
      "cell_type": "code",
      "execution_count": null,
      "metadata": {
        "id": "eKjMDYIOk72N",
        "colab": {
          "base_uri": "https://localhost:8080/",
          "height": 301
        },
        "outputId": "5584cffe-1d5d-4262-bcbc-2038907a45da"
      },
      "outputs": [
        {
          "output_type": "display_data",
          "data": {
            "text/plain": [
              "<Figure size 432x288 with 1 Axes>"
            ],
            "image/png": "[encoded data removed]"
          },
          "metadata": {}
        }
      ],
      "source": [
        "# Plot training & validation loss values\n",
        "plt.plot(history.history['loss'])\n",
        "plt.plot(history.history['val_loss'])\n",
        "plt.title('BRNN Model  Loss')\n",
        "plt.ylabel('Loss')\n",
        "plt.xlabel('Epoch')\n",
        "plt.legend(['Train', 'Test'], loc='upper left')\n",
        "plt.savefig('BRNN Model Loss.png')\n",
        "plt.show()\n"
      ]
    },
    {
      "cell_type": "code",
      "execution_count": null,
      "metadata": {
        "id": "heMaPerEdn3c",
        "colab": {
          "base_uri": "https://localhost:8080/"
        },
        "outputId": "abb875b4-d1e5-405d-e4df-58d8113925f3"
      },
      "outputs": [
        {
          "output_type": "stream",
          "name": "stdout",
          "text": [
            "2500/2500 [==============================] - 16s 6ms/step\n"
          ]
        }
      ],
      "source": [
        "predict = model.predict(X_test, verbose=1)"
      ]
    },
    {
      "cell_type": "markdown",
      "metadata": {
        "id": "SxaycU-9cm6y"
      },
      "source": [
        "#  Calculate True positive,True negetive,False positive and False negetive values. Create Heatmap."
      ]
    },
    {
      "cell_type": "code",
      "execution_count": null,
      "metadata": {
        "id": "rAjFgVm6uGGp"
      },
      "outputs": [],
      "source": [
        "tp = 0\n",
        "tn = 0\n",
        "fp = 0\n",
        "fn = 0\n",
        "predictn = predict.flatten().round()\n",
        "predictn = predictn.tolist()\n",
        "Y_testn = Y_test.tolist()\n",
        "for i in range(len(Y_testn)):\n",
        "  if predictn[i]==1 and Y_testn[i]==1:\n",
        "    tp+=1\n",
        "  elif predictn[i]==0 and Y_testn[i]==0:\n",
        "    tn+=1\n",
        "  elif predictn[i]==0 and Y_testn[i]==1:\n",
        "    fp+=1\n",
        "  elif predictn[i]==1 and Y_testn[i]==0:\n",
        "    fn+=1\n"
      ]
    },
    {
      "cell_type": "code",
      "execution_count": null,
      "metadata": {
        "id": "0Ad719yjxPL2",
        "colab": {
          "base_uri": "https://localhost:8080/",
          "height": 268
        },
        "outputId": "d9455ba4-40f5-4b41-d0a0-2ac5a6c4617a"
      },
      "outputs": [
        {
          "output_type": "display_data",
          "data": {
            "text/plain": [
              "<Figure size 432x288 with 2 Axes>"
            ],
            "image/png": "[encoded data removed]"
          },
          "metadata": {}
        }
      ],
      "source": [
        "to_heat_map =[[tn,fp],[fn,tp]]\n",
        "to_heat_map = pd.DataFrame(to_heat_map, index = [\"Attack\",\"Normal\"],columns = [\"Attack\",\"Normal\"])\n",
        "ax = sns.heatmap(to_heat_map,annot=True, fmt=\"d\")"
      ]
    },
    {
      "cell_type": "markdown",
      "metadata": {
        "id": "sr7H2j3mcm6z"
      },
      "source": [
        "# Save details "
      ]
    },
    {
      "cell_type": "code",
      "execution_count": null,
      "metadata": {
        "id": "rMBI_fKCzQBN"
      },
      "outputs": [],
      "source": [
        "figure = ax.get_figure()    \n",
        "figure.savefig('confusion_matrix_BRNN.png', dpi=400)"
      ]
    },
    {
      "cell_type": "code",
      "execution_count": null,
      "metadata": {
        "id": "mdcKrPWEfE44"
      },
      "outputs": [],
      "source": [
        "model.save('brnn_model.h5')"
      ]
    },
    {
      "cell_type": "code",
      "execution_count": null,
      "metadata": {
        "id": "mv1vi3_KfPHE",
        "colab": {
          "base_uri": "https://localhost:8080/"
        },
        "outputId": "d447ecf4-a503-42ef-8f04-e78b30a85cec"
      },
      "outputs": [
        {
          "output_type": "stream",
          "name": "stdout",
          "text": [
            "accuracy: 97.72%\n"
          ]
        }
      ],
      "source": [
        "X_test = np.asarray(X_test).astype(np.float32)\n",
        "Y_test = np.asarray(Y_test).astype(np.float32)\n",
        "scores = model.evaluate(X_test, Y_test, verbose=0)\n",
        "print(\"%s: %.2f%%\" % (model.metrics_names[1], scores[1]*100))"
      ]
    }
  ],
  "metadata": {
    "colab": {
      "provenance": []
    },
    "kernelspec": {
      "display_name": "Python 3 (ipykernel)",
      "language": "python",
      "name": "python3"
    },
    "language_info": {
      "codemirror_mode": {
        "name": "ipython",
        "version": 3
      },
      "file_extension": ".py",
      "mimetype": "text/x-python",
      "name": "python",
      "nbconvert_exporter": "python",
      "pygments_lexer": "ipython3",
      "version": "3.8.10"
    }
  },
  "nbformat": 4,
  "nbformat_minor": 0
}